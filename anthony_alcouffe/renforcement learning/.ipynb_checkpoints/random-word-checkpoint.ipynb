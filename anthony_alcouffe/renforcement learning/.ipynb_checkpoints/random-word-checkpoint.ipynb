{
 "cells": [
  {
   "cell_type": "code",
   "execution_count": 4,
   "metadata": {},
   "outputs": [
    {
     "name": "stdout",
     "output_type": "stream",
     "text": [
      "Collecting markovify\n",
      "  Downloading https://files.pythonhosted.org/packages/33/92/4036691c7ea53e545e98e0ffffcef357ca19aa2405df366ae5b8b7da391a/markovify-0.8.3.tar.gz\n",
      "Collecting unidecode\n",
      "\u001b[?25l  Downloading https://files.pythonhosted.org/packages/d0/42/d9edfed04228bacea2d824904cae367ee9efd05e6cce7ceaaedd0b0ad964/Unidecode-1.1.1-py2.py3-none-any.whl (238kB)\n",
      "\u001b[K     |████████████████████████████████| 245kB 7.8MB/s \n",
      "\u001b[?25hBuilding wheels for collected packages: markovify\n",
      "  Building wheel for markovify (setup.py) ... \u001b[?25ldone\n",
      "\u001b[?25h  Created wheel for markovify: filename=markovify-0.8.3-cp37-none-any.whl size=18417 sha256=d192e92318ba9263e0bec71ed00285bd155b04ad2e31cbbe4278266b015ce77e\n",
      "  Stored in directory: /root/.cache/pip/wheels/5e/e5/be/8e61715070048813947af5fb32f47b4cf9dddd37c965800bdb\n",
      "Successfully built markovify\n",
      "Installing collected packages: unidecode, markovify\n",
      "Successfully installed markovify-0.8.3 unidecode-1.1.1\n"
     ]
    }
   ],
   "source": [
    "!pip install markovify"
   ]
  },
  {
   "cell_type": "code",
   "execution_count": null,
   "metadata": {},
   "outputs": [],
   "source": []
  },
  {
   "cell_type": "code",
   "execution_count": 132,
   "metadata": {},
   "outputs": [
    {
     "name": "stdout",
     "output_type": "stream",
     "text": [
      "[('ete', 30.0), ('ate', 20.0), ('aet', 20.0), ('tet', 10.0), ('tae', 10.0), ('aee', 10.0)]\n"
     ]
    }
   ],
   "source": [
    "import numpy as np\n",
    "from collections import Counter\n",
    "\n",
    "work_list = []\n",
    "nbr_word = 1000\n",
    "array_proba = [[[0.1, 0.1, 0.8], ['e', 'a', 't']], [[0.1, 0.6, 0.3], ['a', 'e', 't']],\n",
    "               [[0.1, 0.1, 0.8], ['t', 'a', 'e']]], ['e', 'a', 't']\n",
    "\n",
    "for nbr in range(0, nbr_word):\n",
    "    word = np.random.choice(array_proba[1])\n",
    "    for letter_number in range(1, 3):\n",
    "        index_letter = array_proba[1].index(word[-1])\n",
    "        word += np.random.choice(array_proba[0][index_letter][1], p=array_proba[0][index_letter][0])\n",
    "    work_list.append(word)\n",
    "\n",
    "c = Counter(work_list)\n",
    "print([(i, c[i] / len(work_list) * 100.0) for i, count in c.most_common()])"
   ]
  },
  {
   "cell_type": "code",
   "execution_count": 1,
   "metadata": {},
   "outputs": [
    {
     "name": "stderr",
     "output_type": "stream",
     "text": [
      "Using custom data configuration default\n",
      "Reusing dataset aeslc (/root/.cache/huggingface/datasets/aeslc/default/1.0.0/0f335d7ea7f9ab9e325673a86c6aa0e2cd503c5dbf17d48fddcb02840a92fc96)\n"
     ]
    }
   ],
   "source": [
    "import datasets\n",
    "import numpy as np\n",
    "import string\n",
    "dataset = datasets.load_dataset(\"aeslc\")"
   ]
  },
  {
   "cell_type": "code",
   "execution_count": 2,
   "metadata": {},
   "outputs": [
    {
     "name": "stdout",
     "output_type": "stream",
     "text": [
      "DatasetDict({\n",
      "    train: Dataset({\n",
      "        features: ['email_body', 'subject_line'],\n",
      "        num_rows: 14436\n",
      "    })\n",
      "    validation: Dataset({\n",
      "        features: ['email_body', 'subject_line'],\n",
      "        num_rows: 1960\n",
      "    })\n",
      "    test: Dataset({\n",
      "        features: ['email_body', 'subject_line'],\n",
      "        num_rows: 1906\n",
      "    })\n",
      "})\n"
     ]
    }
   ],
   "source": [
    "print(dataset)"
   ]
  },
  {
   "cell_type": "code",
   "execution_count": 3,
   "metadata": {},
   "outputs": [
    {
     "name": "stdout",
     "output_type": "stream",
     "text": [
      "10705423.0\n"
     ]
    }
   ],
   "source": [
    "#x = a,b,c,d,e,f,g,h,i,j,k,l,m,n,o,p,q,r,s,t,u,v,w,x,y,z,[espace]\n",
    "#y = a,b,c,d,e,f,g,h,i,j,k,l,m,n,o,p,q,r,s,t,u,v,w,x,y,z,[espace]\n",
    "char_test = \"abcdefghijklmnopqrstuvwxyz \"\n",
    "data_array = np.zeros((27,27))\n",
    "char_array = np.empty([27, 27], dtype=\"<U10\")\n",
    "number_letter = 0.0\n",
    "nbr_iter = None\n",
    "\n",
    "i=0\n",
    "for row in dataset[\"train\"][\"email_body\"]:\n",
    "    row_id = np.asarray([char_test.find(x) for x in row.lower() if char_test.find(x) >= 0])\n",
    "    #print(row)\n",
    "    #print(row_id)\n",
    "    for id_letter in np.arange(0,len(row_id)-1):\n",
    "        data_array[row_id[id_letter],row_id[id_letter + 1]] += 1\n",
    "        char_array[row_id[id_letter],row_id[id_letter + 1]] = str(char_test[row_id[id_letter]]) + str(char_test[row_id[id_letter+1]])\n",
    "        number_letter+=1\n",
    "    i +=1\n",
    "    if nbr_iter == i or nbr_iter != None:\n",
    "        break\n",
    "        \n",
    "print(number_letter)\n"
   ]
  },
  {
   "cell_type": "code",
   "execution_count": null,
   "metadata": {},
   "outputs": [],
   "source": []
  },
  {
   "cell_type": "code",
   "execution_count": 599,
   "metadata": {},
   "outputs": [
    {
     "name": "stdout",
     "output_type": "stream",
     "text": [
      "c : 2\n",
      "o\n",
      "n\n",
      " \n",
      "r : 17\n",
      "e\n",
      " \n",
      "v : 21\n",
      "e\n",
      " \n",
      "m : 12\n",
      "e\n",
      " \n",
      "r : 17\n",
      "e\n",
      " \n",
      "v : 21\n",
      "e\n",
      " \n",
      "x : 23\n",
      " \n",
      "j : 9\n",
      "u\n",
      "r\n",
      "e\n",
      " \n"
     ]
    }
   ],
   "source": [
    "import random\n",
    "for i in range(0,8): #nbr words\n",
    "    firstletter = random.choice('abcdefghijklmnopqrstuvwxyz ')\n",
    "    firstindex = char_test.find(firstletter)\n",
    "    print(firstletter + \" : \" + str(firstindex))\n",
    "    otherLetter = firstindex\n",
    "    for e in range(0,8): # nbr letters\n",
    "            otherLetter = np.argmax(data_array[otherLetter,:])\n",
    "            print(char_test[otherLetter])\n",
    "            if otherLetter == 26:\n",
    "                break\n"
   ]
  },
  {
   "cell_type": "code",
   "execution_count": 3,
   "metadata": {},
   "outputs": [
    {
     "name": "stderr",
     "output_type": "stream",
     "text": [
      "Reusing dataset allocine_dataset (/root/.cache/huggingface/datasets/allocine_dataset/allocine/1.0.0/bbee2ebb45a067891973b91ebdd40a93598d1e2dd5710b6714cdc2cd81d0ed65)\n"
     ]
    }
   ],
   "source": [
    "allocine = datasets.load_dataset(\"allocine\")"
   ]
  },
  {
   "cell_type": "code",
   "execution_count": 4,
   "metadata": {},
   "outputs": [
    {
     "data": {
      "text/plain": [
       "DatasetDict({\n",
       "    train: Dataset({\n",
       "        features: ['review', 'label'],\n",
       "        num_rows: 160000\n",
       "    })\n",
       "    validation: Dataset({\n",
       "        features: ['review', 'label'],\n",
       "        num_rows: 20000\n",
       "    })\n",
       "    test: Dataset({\n",
       "        features: ['review', 'label'],\n",
       "        num_rows: 20000\n",
       "    })\n",
       "})"
      ]
     },
     "execution_count": 4,
     "metadata": {},
     "output_type": "execute_result"
    }
   ],
   "source": [
    "allocine"
   ]
  },
  {
   "cell_type": "code",
   "execution_count": 8,
   "metadata": {},
   "outputs": [
    {
     "data": {
      "text/plain": [
       "<markovify.text.Text at 0x7f25b1fbdb50>"
      ]
     },
     "execution_count": 8,
     "metadata": {},
     "output_type": "execute_result"
    }
   ],
   "source": [
    "import markovify\n",
    "\n",
    "text_model = markovify.Text(allocine[\"train\"][\"review\"], state_size=4)\n",
    "text_model"
   ]
  },
  {
   "cell_type": "code",
   "execution_count": 9,
   "metadata": {},
   "outputs": [
    {
     "name": "stdout",
     "output_type": "stream",
     "text": [
      "Je trouve ça tellement beau c'est Disney il y a de superbes paysages de goa et de lucknow.\n",
      "De très beaux portraits de femme, un très bel hommage aux personnes décédées sur cette plateforme pétrolière.\n",
      "Si vous voulez un bon film d’aventure qui se déroule en Italie ? Que l'on a du mal à décoller et on sombre dans les lenteurs et les lourdeurs de ce qui devait être une fête se révèle un véritable chaos.\n"
     ]
    }
   ],
   "source": [
    "for i in range(3):\n",
    "    print(text_model.make_short_sentence(280))\n"
   ]
  },
  {
   "cell_type": "code",
   "execution_count": null,
   "metadata": {},
   "outputs": [],
   "source": []
  },
  {
   "cell_type": "code",
   "execution_count": null,
   "metadata": {},
   "outputs": [],
   "source": []
  },
  {
   "cell_type": "code",
   "execution_count": null,
   "metadata": {},
   "outputs": [],
   "source": []
  },
  {
   "cell_type": "code",
   "execution_count": null,
   "metadata": {},
   "outputs": [],
   "source": []
  },
  {
   "cell_type": "code",
   "execution_count": null,
   "metadata": {},
   "outputs": [],
   "source": []
  },
  {
   "cell_type": "code",
   "execution_count": null,
   "metadata": {},
   "outputs": [],
   "source": []
  },
  {
   "cell_type": "code",
   "execution_count": null,
   "metadata": {},
   "outputs": [],
   "source": []
  },
  {
   "cell_type": "code",
   "execution_count": null,
   "metadata": {},
   "outputs": [],
   "source": []
  },
  {
   "cell_type": "code",
   "execution_count": null,
   "metadata": {},
   "outputs": [],
   "source": []
  },
  {
   "cell_type": "code",
   "execution_count": null,
   "metadata": {},
   "outputs": [],
   "source": []
  },
  {
   "cell_type": "code",
   "execution_count": 6,
   "metadata": {},
   "outputs": [],
   "source": []
  },
  {
   "cell_type": "code",
   "execution_count": null,
   "metadata": {},
   "outputs": [],
   "source": []
  }
 ],
 "metadata": {
  "kernelspec": {
   "display_name": "Python 3",
   "language": "python",
   "name": "python3"
  },
  "language_info": {
   "codemirror_mode": {
    "name": "ipython",
    "version": 3
   },
   "file_extension": ".py",
   "mimetype": "text/x-python",
   "name": "python",
   "nbconvert_exporter": "python",
   "pygments_lexer": "ipython3",
   "version": "3.7.4"
  }
 },
 "nbformat": 4,
 "nbformat_minor": 2
}
